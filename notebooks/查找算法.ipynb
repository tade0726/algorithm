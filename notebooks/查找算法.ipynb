{
 "cells": [
  {
   "cell_type": "markdown",
   "metadata": {},
   "source": [
    "## note\n",
    "\n",
    "- refs: http://www.cnblogs.com/maybe2030/p/4715035.html\n"
   ]
  },
  {
   "cell_type": "markdown",
   "metadata": {},
   "source": [
    "## 顺序查找\n",
    "\n",
    "复杂度： \n",
    "\n",
    "$(n+1)/2$\n",
    "\n",
    "$O(n)$"
   ]
  },
  {
   "cell_type": "code",
   "execution_count": 41,
   "metadata": {},
   "outputs": [],
   "source": [
    "import random\n",
    "import pdb"
   ]
  },
  {
   "cell_type": "code",
   "execution_count": 2,
   "metadata": {},
   "outputs": [],
   "source": [
    "def seq_search(seq, item):\n",
    "    for idx, i in enumerate(seq):\n",
    "        if item == i:\n",
    "            return idx\n",
    "    return False"
   ]
  },
  {
   "cell_type": "code",
   "execution_count": 3,
   "metadata": {},
   "outputs": [],
   "source": [
    "seq = list(range(10))"
   ]
  },
  {
   "cell_type": "code",
   "execution_count": 4,
   "metadata": {},
   "outputs": [
    {
     "data": {
      "text/plain": [
       "3"
      ]
     },
     "execution_count": 4,
     "metadata": {},
     "output_type": "execute_result"
    }
   ],
   "source": [
    "seq_search(seq, 3)"
   ]
  },
  {
   "cell_type": "markdown",
   "metadata": {},
   "source": [
    "## 二分查找"
   ]
  },
  {
   "cell_type": "code",
   "execution_count": 48,
   "metadata": {},
   "outputs": [],
   "source": [
    "# non - recurrisive\n",
    "\n",
    "def binary_search(seq, item):\n",
    "    \n",
    "    low = 0\n",
    "    high = len(seq) - 1\n",
    "    \n",
    "    while low <= high:\n",
    "        \n",
    "        mid = (low + high) // 2\n",
    "        \n",
    "        if item == seq[mid]:\n",
    "            return mid\n",
    "        elif item > seq[mid]:\n",
    "            low = mid + 1\n",
    "        else:\n",
    "            high = mid - 1\n",
    "        \n",
    "    return False\n",
    "\n",
    "# recurrisive\n",
    "\n",
    "def binary_search(seq, item, low, high):\n",
    "    \n",
    "    low = 0\n",
    "    high = len(seq) - 1\n",
    "    \n",
    "    while low <= high:\n",
    "        mid = (low + high) // 2\n",
    "        if item == seq[mid]:\n",
    "            return mid\n",
    "        elif item > seq[mid]:\n",
    "            return binary_search(seq, item, mid + 1, high)\n",
    "        else:\n",
    "            return binary_search(seq, item, low, mid  - 1)\n",
    "    return False"
   ]
  },
  {
   "cell_type": "code",
   "execution_count": 174,
   "metadata": {},
   "outputs": [
    {
     "data": {
      "text/plain": [
       "False"
      ]
     },
     "execution_count": 174,
     "metadata": {},
     "output_type": "execute_result"
    }
   ],
   "source": [
    "binary_search(seq, 10)"
   ]
  },
  {
   "cell_type": "code",
   "execution_count": 49,
   "metadata": {},
   "outputs": [
    {
     "data": {
      "text/plain": [
       "[0, 1, 2, 3, 4, 5, 6, 7, 8, 9]"
      ]
     },
     "execution_count": 49,
     "metadata": {},
     "output_type": "execute_result"
    }
   ],
   "source": [
    "seq"
   ]
  },
  {
   "cell_type": "code",
   "execution_count": 172,
   "metadata": {},
   "outputs": [
    {
     "ename": "AssertionError",
     "evalue": "",
     "output_type": "error",
     "traceback": [
      "\u001b[0;31m---------------------------------------------------------------------------\u001b[0m",
      "\u001b[0;31mAssertionError\u001b[0m                            Traceback (most recent call last)",
      "\u001b[0;32m<ipython-input-172-e372b453afad>\u001b[0m in \u001b[0;36m<module>\u001b[0;34m()\u001b[0m\n\u001b[1;32m      1\u001b[0m \u001b[0;32mfor\u001b[0m \u001b[0mi\u001b[0m \u001b[0;32min\u001b[0m \u001b[0mrange\u001b[0m\u001b[0;34m(\u001b[0m\u001b[0;36m11\u001b[0m\u001b[0;34m)\u001b[0m\u001b[0;34m:\u001b[0m\u001b[0;34m\u001b[0m\u001b[0m\n\u001b[0;32m----> 2\u001b[0;31m     \u001b[0;32massert\u001b[0m \u001b[0mbinary_search\u001b[0m\u001b[0;34m(\u001b[0m\u001b[0mseq\u001b[0m\u001b[0;34m,\u001b[0m \u001b[0mi\u001b[0m\u001b[0;34m)\u001b[0m \u001b[0;34m==\u001b[0m \u001b[0mi\u001b[0m\u001b[0;34m\u001b[0m\u001b[0m\n\u001b[0m",
      "\u001b[0;31mAssertionError\u001b[0m: "
     ]
    }
   ],
   "source": [
    "for i in range(10):\n",
    "    assert binary_search(seq, i) == i"
   ]
  },
  {
   "cell_type": "markdown",
   "metadata": {},
   "source": [
    "## 插值查找"
   ]
  },
  {
   "cell_type": "code",
   "execution_count": 64,
   "metadata": {},
   "outputs": [],
   "source": [
    "def insertion_search(seq, item, low, high):\n",
    "    \n",
    "    mid = low + int(((item - seq[low]) / (seq[high] - seq[low])) * (high - low))\n",
    "    \n",
    "    if seq[mid] == item:\n",
    "        return mid\n",
    "    \n",
    "    if item < seq[mid]:\n",
    "        return insertion_search(seq, item, low, mid-1)\n",
    "    \n",
    "    if item > seq[mid]:\n",
    "        return insertion_search(seq, item, mid+1, high)\n",
    "    \n",
    "    return False\n",
    "    "
   ]
  },
  {
   "cell_type": "markdown",
   "metadata": {},
   "source": [
    "## 斐波那契查找"
   ]
  },
  {
   "cell_type": "code",
   "execution_count": 5,
   "metadata": {},
   "outputs": [],
   "source": [
    "def fibonacci(k: int):\n",
    "    assert k >= 0, \"k value must be over zero.\"\n",
    "    \n",
    "    if k == 0 or k == 1:\n",
    "        return k\n",
    "    else:\n",
    "        return fibonacci(k-1) + fibonacci(k-2)"
   ]
  },
  {
   "cell_type": "code",
   "execution_count": 36,
   "metadata": {},
   "outputs": [],
   "source": [
    "def fibonacci_search(seq:list, item:int):\n",
    "  \n",
    "    n = len(seq)\n",
    "    low = 0\n",
    "    high = n - 1\n",
    "    \n",
    "    k = 0\n",
    "    fib = float(\"-inf\")\n",
    "    \n",
    "    while high > (fib - 1):\n",
    "        k += 1\n",
    "        fib = fibonacci(k)\n",
    "    \n",
    "    temp = seq + [seq[-1]] * (fib - 1 - n)\n",
    "        \n",
    "    while low <= high:   \n",
    "        \n",
    "        mid = low + fibonacci(k-1) - 1\n",
    "        \n",
    "        if item == temp[mid]:\n",
    "            if mid < n:\n",
    "                return mid\n",
    "            else:\n",
    "                return n - 1\n",
    "            \n",
    "        if item > temp[mid]:\n",
    "            low = mid + 1\n",
    "            k -= 2\n",
    "            \n",
    "        if item < temp[mid]:\n",
    "            high = mid - 1\n",
    "            k -= 1     \n",
    "    \n",
    "    return False\n",
    "        "
   ]
  },
  {
   "cell_type": "code",
   "execution_count": 40,
   "metadata": {},
   "outputs": [
    {
     "data": {
      "text/plain": [
       "False"
      ]
     },
     "execution_count": 40,
     "metadata": {},
     "output_type": "execute_result"
    }
   ],
   "source": [
    "fibonacci_search(seq, 19)"
   ]
  },
  {
   "cell_type": "markdown",
   "metadata": {},
   "source": [
    "## 树查找\n",
    "\n",
    "- https://github.com/qiwsir/algorithm/blob/master/binary_tree.md"
   ]
  },
  {
   "cell_type": "markdown",
   "metadata": {},
   "source": [
    "### 二叉树"
   ]
  },
  {
   "cell_type": "code",
   "execution_count": 141,
   "metadata": {},
   "outputs": [],
   "source": [
    "class Node:\n",
    "    \"\"\"\n",
    "    二叉树\n",
    "    \"\"\"\n",
    "    \n",
    "    def __init__(self, data):\n",
    "        self.left = None\n",
    "        self.right = None\n",
    "        self.data = data\n",
    "        \n",
    "    def __str__(self):\n",
    "        return f\"< node, data: {self.data} >\"\n",
    "    \n",
    "    __repr__ = __str__\n",
    "    \n",
    "    def children_count(self):\n",
    "        \"\"\"\n",
    "        子节点个数\n",
    "        \"\"\"\n",
    "        cnt = 0\n",
    "        if self.left:\n",
    "            cnt += 1\n",
    "        if self.right:\n",
    "            cnt += 1\n",
    "        return cnt\n",
    "    \n",
    "    def insert(self, data):\n",
    "        if data < self.data:\n",
    "            if self.left is None:\n",
    "                self.left = Node(data)\n",
    "            else:\n",
    "                self.left.insert(data)\n",
    "        elif data > self.data:\n",
    "            if self.right is None:\n",
    "                self.right = Node(data)\n",
    "            else:\n",
    "                self.right.insert(data)\n",
    "                \n",
    "    def query(self, data, parent=None):\n",
    "        \"\"\"\n",
    "        遍历二叉树\n",
    "        \"\"\"\n",
    "        if data < self.data:\n",
    "            if self.left is None:\n",
    "                return None, None\n",
    "            else:\n",
    "                return self.left.query(data, self)\n",
    "        elif data > self.data:\n",
    "            if self.right is None:\n",
    "                return None, None\n",
    "            else:\n",
    "                return self.right.query(data, self)     \n",
    "        else:\n",
    "            return self, parent\n",
    "    \n",
    "    def delete(self, data):\n",
    "        \"\"\"\n",
    "        删除节点\n",
    "        \"\"\"\n",
    "        node, parent = self.query(data)\n",
    "        \n",
    "        if node is not None:\n",
    "            children_counts = node.children_count()\n",
    "            \n",
    "            if children_counts == 0:\n",
    "                # 如果该节点下没有子节点，即可删除\n",
    "                if parent.left is node:\n",
    "                    parent.left = None\n",
    "                else:\n",
    "                    paremt.right = None\n",
    "                del node\n",
    "            \n",
    "            elif children_count == 1:\n",
    "                # 如果有一个子节点，则让子节点上移替代改节点（该节点消失）\n",
    "                if node.left:\n",
    "                    n = node.left\n",
    "                else:\n",
    "                    n = node.right\n",
    "                \n",
    "                if parent:\n",
    "                    if parent.left is node:\n",
    "                        parent.left = node\n",
    "                    else:\n",
    "                        parent.right = node\n",
    "                del node\n",
    "            else:\n",
    "                # 如果有两个子节点，右树的最小节点（即右树的最左的终节点）\n",
    "                parent = node\n",
    "                successor = node.right\n",
    "                while successor.left:\n",
    "                    parent = successor\n",
    "                    successor = successor.left\n",
    "                node.data = successor.data\n",
    "                parent.left = None\n",
    "                \n",
    "    def compare_trees(self, node):\n",
    "        \"\"\"\n",
    "        比较两棵树\n",
    "        \"\"\"\n",
    "        if node is None:\n",
    "            return False\n",
    "        if self.data != node.data:\n",
    "            return False\n",
    "        \n",
    "        result = True\n",
    "        \n",
    "        if self.left is None:\n",
    "            if node.left:\n",
    "                return False\n",
    "        else:\n",
    "            result = self.left.compare_trees(node.left)\n",
    "        \n",
    "        if result is False:\n",
    "            return False\n",
    "        \n",
    "        if self.right is None:\n",
    "            if node.right:\n",
    "                return False\n",
    "        else:\n",
    "            result = self.right.compare_trees(node.right)\n",
    "        return result\n",
    "    \n",
    "    def front_list(self):\n",
    "        \n",
    "        if self.left is None and self.right is None:\n",
    "            return [self.data]\n",
    "        elif self.left is None:\n",
    "            return [self.data] + self.right.front_list()\n",
    "        elif self.right is None:\n",
    "            return [self.data] + self.left.front_list()\n",
    "        else:\n",
    "            return [self.data] + self.left.front_list() + self.right.front_list()\n",
    "    \n",
    "    def mid_list(self):\n",
    "        if self.left is None and self.right is None:\n",
    "            return [self.data]\n",
    "        elif self.left is None:\n",
    "            return [self.data]  + self.right.mid_list()\n",
    "        elif self.right is None:\n",
    "            return self.left.mid_list() + [self.data]\n",
    "        else:\n",
    "            return self.left.mid_list() + [self.data] + self.right.mid_list()\n",
    "    \n",
    "    def back_list(self):\n",
    "        if self.left is None and self.right is None:\n",
    "            return [self.data]\n",
    "        elif self.left is None:\n",
    "            return self.right.back_list() + [self.data]\n",
    "        elif self.right is None:\n",
    "            return self.left.back_list() + [self.data]\n",
    "        else:\n",
    "            return self.left.back_list() + self.right.back_list() + [self.data]"
   ]
  },
  {
   "cell_type": "code",
   "execution_count": 142,
   "metadata": {},
   "outputs": [
    {
     "data": {
      "text/plain": [
       "(< node, data: 3 >, < node, data: 10 >)"
      ]
     },
     "execution_count": 142,
     "metadata": {},
     "output_type": "execute_result"
    }
   ],
   "source": [
    "root = Node(19)\n",
    "root.insert(10)\n",
    "root.insert(20)\n",
    "root.insert(3)\n",
    "root.insert(88)\n",
    "root.insert(6)"
   ]
  },
  {
   "cell_type": "code",
   "execution_count": 147,
   "metadata": {},
   "outputs": [
    {
     "data": {
      "text/plain": [
       "(< node, data: 10 >, < node, data: 19 >)"
      ]
     },
     "execution_count": 147,
     "metadata": {},
     "output_type": "execute_result"
    }
   ],
   "source": [
    "root.query(10)"
   ]
  },
  {
   "cell_type": "code",
   "execution_count": 143,
   "metadata": {},
   "outputs": [
    {
     "data": {
      "text/plain": [
       "[19, 10, 3, 6, 20, 88]"
      ]
     },
     "execution_count": 143,
     "metadata": {},
     "output_type": "execute_result"
    }
   ],
   "source": [
    "root.front_list()"
   ]
  },
  {
   "cell_type": "code",
   "execution_count": 144,
   "metadata": {},
   "outputs": [
    {
     "data": {
      "text/plain": [
       "[3, 6, 10, 19, 20, 88]"
      ]
     },
     "execution_count": 144,
     "metadata": {},
     "output_type": "execute_result"
    }
   ],
   "source": [
    "root.mid_list()"
   ]
  },
  {
   "cell_type": "code",
   "execution_count": 145,
   "metadata": {},
   "outputs": [
    {
     "data": {
      "text/plain": [
       "[6, 3, 10, 88, 20, 19]"
      ]
     },
     "execution_count": 145,
     "metadata": {},
     "output_type": "execute_result"
    }
   ],
   "source": [
    "root.back_list()"
   ]
  },
  {
   "cell_type": "markdown",
   "metadata": {},
   "source": [
    "## 哈希查找\n",
    "\n",
    "key - map "
   ]
  },
  {
   "cell_type": "code",
   "execution_count": null,
   "metadata": {},
   "outputs": [],
   "source": []
  }
 ],
 "metadata": {
  "kernelspec": {
   "display_name": "Python 3",
   "language": "python",
   "name": "python3"
  },
  "language_info": {
   "codemirror_mode": {
    "name": "ipython",
    "version": 3
   },
   "file_extension": ".py",
   "mimetype": "text/x-python",
   "name": "python",
   "nbconvert_exporter": "python",
   "pygments_lexer": "ipython3",
   "version": "3.7.0"
  }
 },
 "nbformat": 4,
 "nbformat_minor": 2
}
