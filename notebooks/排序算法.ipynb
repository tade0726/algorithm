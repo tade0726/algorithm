{
 "cells": [
  {
   "cell_type": "markdown",
   "metadata": {},
   "source": [
    "## 算法\n",
    "\n",
    "http://alrightchiu.github.io/SecondRound/comparison-sort-merge-sorthe-bing-pai-xu-fa.html\n",
    "\n",
    "- merge sort\n",
    "    - refs: https://www.pythoncentral.io/merge-sort-implementation-guide/\n",
    "- quick sort\n",
    "- heap sort\n",
    "- insertion sort"
   ]
  },
  {
   "cell_type": "markdown",
   "metadata": {},
   "source": [
    "## merge sort"
   ]
  },
  {
   "cell_type": "code",
   "execution_count": 21,
   "metadata": {},
   "outputs": [],
   "source": [
    "import random"
   ]
  },
  {
   "cell_type": "code",
   "execution_count": 25,
   "metadata": {},
   "outputs": [],
   "source": [
    "def mergeSort(seq):\n",
    "    if len(seq) > 1:\n",
    "        mid = len(seq) // 2\n",
    "        \n",
    "        lefthalf = seq[:mid]\n",
    "        righthalf = seq[mid:]\n",
    "        \n",
    "        # recursion\n",
    "        mergeSort(lefthalf)\n",
    "        mergeSort(righthalf)\n",
    "        \n",
    "        i = 0\n",
    "        j = 0\n",
    "        k = 0\n",
    "        \n",
    "        while i < len(lefthalf) and j < len(righthalf):\n",
    "            if lefthalf[i] < righthalf[j]:\n",
    "                seq[k] = lefthalf[i]\n",
    "                i += 1\n",
    "            else:\n",
    "                seq[k] = righthalf[j]\n",
    "                j += 1\n",
    "            \n",
    "            k += 1\n",
    "            \n",
    "        while i < len(lefthalf):\n",
    "            seq[k] = lefthalf[i]\n",
    "            i += 1\n",
    "            k += 1\n",
    "        \n",
    "        while j < len(righthalf):\n",
    "            seq[k] = righthalf[j]\n",
    "            j += 1\n",
    "            k += 1"
   ]
  },
  {
   "cell_type": "code",
   "execution_count": 26,
   "metadata": {},
   "outputs": [],
   "source": [
    "seq = list(range(30))\n",
    "random.shuffle(seq)"
   ]
  },
  {
   "cell_type": "code",
   "execution_count": 27,
   "metadata": {},
   "outputs": [],
   "source": [
    "mergeSort(seq)"
   ]
  },
  {
   "cell_type": "code",
   "execution_count": 28,
   "metadata": {},
   "outputs": [
    {
     "data": {
      "text/plain": [
       "[0,\n",
       " 1,\n",
       " 2,\n",
       " 3,\n",
       " 4,\n",
       " 5,\n",
       " 6,\n",
       " 7,\n",
       " 8,\n",
       " 9,\n",
       " 10,\n",
       " 11,\n",
       " 12,\n",
       " 13,\n",
       " 14,\n",
       " 15,\n",
       " 16,\n",
       " 17,\n",
       " 18,\n",
       " 19,\n",
       " 20,\n",
       " 21,\n",
       " 22,\n",
       " 23,\n",
       " 24,\n",
       " 25,\n",
       " 26,\n",
       " 27,\n",
       " 28,\n",
       " 29]"
      ]
     },
     "execution_count": 28,
     "metadata": {},
     "output_type": "execute_result"
    }
   ],
   "source": [
    "seq"
   ]
  },
  {
   "cell_type": "markdown",
   "metadata": {},
   "source": [
    "## Insertion Sort"
   ]
  },
  {
   "cell_type": "code",
   "execution_count": 29,
   "metadata": {},
   "outputs": [],
   "source": [
    "def insertionSort(seq):\n",
    "    for idx in range(1, len(seq)):\n",
    "        cur_val = seq[idx]\n",
    "        position = idx\n",
    "        \n",
    "        while position > 0 and seq[position-1] > cur_val:\n",
    "            seq[position] = seq[position-1]\n",
    "            position = position - 1\n",
    "            \n",
    "        seq[position] = cur_val"
   ]
  },
  {
   "cell_type": "code",
   "execution_count": 30,
   "metadata": {},
   "outputs": [],
   "source": [
    "seq = list(range(30))\n",
    "random.shuffle(seq)"
   ]
  },
  {
   "cell_type": "code",
   "execution_count": 31,
   "metadata": {},
   "outputs": [],
   "source": [
    "insertionSort(seq)"
   ]
  },
  {
   "cell_type": "code",
   "execution_count": 32,
   "metadata": {},
   "outputs": [
    {
     "data": {
      "text/plain": [
       "[0,\n",
       " 1,\n",
       " 2,\n",
       " 3,\n",
       " 4,\n",
       " 5,\n",
       " 6,\n",
       " 7,\n",
       " 8,\n",
       " 9,\n",
       " 10,\n",
       " 11,\n",
       " 12,\n",
       " 13,\n",
       " 14,\n",
       " 15,\n",
       " 16,\n",
       " 17,\n",
       " 18,\n",
       " 19,\n",
       " 20,\n",
       " 21,\n",
       " 22,\n",
       " 23,\n",
       " 24,\n",
       " 25,\n",
       " 26,\n",
       " 27,\n",
       " 28,\n",
       " 29]"
      ]
     },
     "execution_count": 32,
     "metadata": {},
     "output_type": "execute_result"
    }
   ],
   "source": [
    "seq"
   ]
  },
  {
   "cell_type": "markdown",
   "metadata": {},
   "source": [
    "## quick sort\n",
    "\n",
    "ref: http://alrightchiu.github.io/SecondRound/comparison-sort-quick-sortkuai-su-pai-xu-fa.html"
   ]
  },
  {
   "cell_type": "code",
   "execution_count": 79,
   "metadata": {},
   "outputs": [],
   "source": [
    "def partition(seq, front:int, end:int):\n",
    "    \"\"\"\n",
    "    i: 小于 pivot 数列的队尾 - less\n",
    "    j: 大于 pivot 数列的队尾 - large\n",
    "    \"\"\"\n",
    "    \n",
    "    pivot = seq[end]\n",
    "    i = front - 1\n",
    "    \n",
    "    for j in range(front, end):\n",
    "        if seq[j] < pivot:\n",
    "            # 与 large 的 第一个元素交换\n",
    "            i += 1\n",
    "            seq[i], seq[j] = seq[j], seq[i]\n",
    "    # 与 large 的 第一个元素交换\n",
    "    i += 1\n",
    "    seq[i], seq[end] = seq[end], seq[i]\n",
    "    return i\n",
    "\n",
    "def quick_sort(seq, front:int, end:int):\n",
    "    if front < end:\n",
    "        pivot = partition(seq, front, end)\n",
    "        quick_sort(seq, front, pivot - 1)\n",
    "        quick_sort(seq, pivot + 1, end)\n",
    "        \n",
    "def quick_sort_(seq):\n",
    "    quick_sort(seq, 0, len(seq)-1)"
   ]
  },
  {
   "cell_type": "code",
   "execution_count": 85,
   "metadata": {},
   "outputs": [],
   "source": [
    "a = [1, 3, 2, 7, 10, 9, 100]"
   ]
  },
  {
   "cell_type": "code",
   "execution_count": 77,
   "metadata": {},
   "outputs": [],
   "source": [
    "quick_sort_(a)"
   ]
  },
  {
   "cell_type": "code",
   "execution_count": 78,
   "metadata": {},
   "outputs": [
    {
     "data": {
      "text/plain": [
       "[1, 2, 3, 7, 9, 10, 100]"
      ]
     },
     "execution_count": 78,
     "metadata": {},
     "output_type": "execute_result"
    }
   ],
   "source": [
    "a"
   ]
  },
  {
   "cell_type": "markdown",
   "metadata": {},
   "source": [
    "## heap sort\n",
    "\n",
    "ref: http://alrightchiu.github.io/SecondRound/comparison-sort-heap-sortdui-ji-pai-xu-fa.html"
   ]
  },
  {
   "cell_type": "code",
   "execution_count": 90,
   "metadata": {},
   "outputs": [],
   "source": [
    "def max_heapify(seq:list, root:int, length: int):\n",
    "    \n",
    "    left = 2 * root\n",
    "    right = left + 1\n",
    "    \n",
    "    largest = None\n",
    "    \n",
    "    if left <= length and seq[left] > seq[root]:\n",
    "        largest = left\n",
    "    else:\n",
    "        largest = root\n",
    "    \n",
    "    if right <= length and seq[right] > seq[largest]:\n",
    "        largest = right\n",
    "    \n",
    "    if largest != root:\n",
    "        seq[largest], seq[root] = seq[root], seq[largest]\n",
    "        max_heapify(seq, largest, length)\n",
    "\n",
    "def build_max_heap(seq):\n",
    "    for i in range(len(seq) // 2, 0, -1):\n",
    "        max_heapify(seq, i, len(seq) - 1)\n",
    "\n",
    "def heap_sort(seq):\n",
    "    seq.insert(0, 0)\n",
    "    build_max_heap(seq)\n",
    "    size = len(seq) - 1\n",
    "    for i in range(len(seq)-1, 1, -1):\n",
    "        seq[1], seq[i] = seq[i], seq[1]\n",
    "        size -= 1\n",
    "        max_heapify(seq, 1, size)\n",
    "    seq = seq[1:]"
   ]
  },
  {
   "cell_type": "code",
   "execution_count": 86,
   "metadata": {},
   "outputs": [],
   "source": [
    "a = [1, 3, 2, 7, 10, 9, 100]"
   ]
  },
  {
   "cell_type": "code",
   "execution_count": 91,
   "metadata": {},
   "outputs": [],
   "source": [
    "heap_sort(a)"
   ]
  },
  {
   "cell_type": "code",
   "execution_count": 92,
   "metadata": {},
   "outputs": [
    {
     "data": {
      "text/plain": [
       "[0, 1, 2, 3, 7, 9, 10, 100]"
      ]
     },
     "execution_count": 92,
     "metadata": {},
     "output_type": "execute_result"
    }
   ],
   "source": [
    "a"
   ]
  }
 ],
 "metadata": {
  "kernelspec": {
   "display_name": "Python 3",
   "language": "python",
   "name": "python3"
  },
  "language_info": {
   "codemirror_mode": {
    "name": "ipython",
    "version": 3
   },
   "file_extension": ".py",
   "mimetype": "text/x-python",
   "name": "python",
   "nbconvert_exporter": "python",
   "pygments_lexer": "ipython3",
   "version": "3.7.0"
  }
 },
 "nbformat": 4,
 "nbformat_minor": 2
}
